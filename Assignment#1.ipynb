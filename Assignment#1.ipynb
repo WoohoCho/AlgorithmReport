{
 "cells": [
  {
   "cell_type": "code",
   "execution_count": 1,
   "id": "ea35926d",
   "metadata": {},
   "outputs": [
    {
     "name": "stdout",
     "output_type": "stream",
     "text": [
      "Stack elements:\n",
      "3 2 1 \n",
      "Top element: 3\n",
      "Popping element: 3\n",
      "Stack elements after pop:\n",
      "2 1 \n"
     ]
    }
   ],
   "source": [
    "class Node:\n",
    "    def __init__(self, data):\n",
    "        self.data = data\n",
    "        self.next = None\n",
    "\n",
    "class Stack:\n",
    "    def __init__(self):\n",
    "        self.top = None\n",
    "\n",
    "    def is_empty(self):\n",
    "        return self.top is None\n",
    "\n",
    "    def push(self, data):\n",
    "        new_node = Node(data)\n",
    "        new_node.next = self.top\n",
    "        self.top = new_node\n",
    "\n",
    "    def pop(self):\n",
    "        if self.is_empty():\n",
    "            print(\"Stack is empty\")\n",
    "            return None\n",
    "        else:\n",
    "            popped = self.top.data\n",
    "            self.top = self.top.next\n",
    "            return popped\n",
    "\n",
    "    def peek(self):\n",
    "        if self.is_empty():\n",
    "            print(\"Stack is empty\")\n",
    "            return None\n",
    "        else:\n",
    "            return self.top.data\n",
    "\n",
    "    def display(self):\n",
    "        current = self.top\n",
    "        if self.is_empty():\n",
    "            print(\"Stack is empty\")\n",
    "        else:\n",
    "            while current is not None:\n",
    "                print(current.data, end=\" \")\n",
    "                current = current.next\n",
    "            print()\n",
    "\n",
    "# 스택 테스트\n",
    "stack = Stack()\n",
    "stack.push(1)\n",
    "stack.push(2)\n",
    "stack.push(3)\n",
    "\n",
    "print(\"Stack elements:\")\n",
    "stack.display()\n",
    "\n",
    "print(\"Top element:\", stack.peek())\n",
    "\n",
    "print(\"Popping element:\", stack.pop())\n",
    "print(\"Stack elements after pop:\")\n",
    "stack.display()\n"
   ]
  },
  {
   "cell_type": "code",
   "execution_count": 2,
   "id": "6e7cbd26",
   "metadata": {},
   "outputs": [
    {
     "name": "stdout",
     "output_type": "stream",
     "text": [
      "Queue elements:\n",
      "1 2 3 \n",
      "Front element: 1\n",
      "Dequeue element: 1\n",
      "Queue elements after dequeue:\n",
      "2 3 \n"
     ]
    }
   ],
   "source": [
    "class Node:\n",
    "    def __init__(self, data):\n",
    "        self.data = data\n",
    "        self.next = None\n",
    "\n",
    "class Queue:\n",
    "    def __init__(self):\n",
    "        self.front = None\n",
    "        self.rear = None\n",
    "\n",
    "    def is_empty(self):\n",
    "        return self.front is None\n",
    "\n",
    "    def enqueue(self, data):\n",
    "        new_node = Node(data)\n",
    "        if self.is_empty():\n",
    "            self.front = new_node\n",
    "            self.rear = new_node\n",
    "        else:\n",
    "            self.rear.next = new_node\n",
    "            self.rear = new_node\n",
    "\n",
    "    def dequeue(self):\n",
    "        if self.is_empty():\n",
    "            print(\"Queue is empty\")\n",
    "            return None\n",
    "        else:\n",
    "            dequeued = self.front.data\n",
    "            if self.front == self.rear:\n",
    "                self.front = None\n",
    "                self.rear = None\n",
    "            else:\n",
    "                self.front = self.front.next\n",
    "            return dequeued\n",
    "\n",
    "    def peek(self):\n",
    "        if self.is_empty():\n",
    "            print(\"Queue is empty\")\n",
    "            return None\n",
    "        else:\n",
    "            return self.front.data\n",
    "\n",
    "    def display(self):\n",
    "        current = self.front\n",
    "        if self.is_empty():\n",
    "            print(\"Queue is empty\")\n",
    "        else:\n",
    "            while current is not None:\n",
    "                print(current.data, end=\" \")\n",
    "                current = current.next\n",
    "            print()\n",
    "\n",
    "# 큐 테스트\n",
    "queue = Queue()\n",
    "queue.enqueue(1)\n",
    "queue.enqueue(2)\n",
    "queue.enqueue(3)\n",
    "\n",
    "print(\"Queue elements:\")\n",
    "queue.display()\n",
    "\n",
    "print(\"Front element:\", queue.peek())\n",
    "\n",
    "print(\"Dequeue element:\", queue.dequeue())\n",
    "print(\"Queue elements after dequeue:\")\n",
    "queue.display()\n"
   ]
  },
  {
   "cell_type": "code",
   "execution_count": 4,
   "id": "3cf75548",
   "metadata": {},
   "outputs": [],
   "source": [
    "class Product:\n",
    "    def __init__(self, name, quantity):\n",
    "        self.name = name\n",
    "        self.quantity = quantity\n",
    "        self.next = None\n",
    "\n",
    "class InventoryManager:\n",
    "    def __init__(self):\n",
    "        self.head = None\n",
    "\n",
    "    def add_product(self, name, quantity):\n",
    "        new_product = Product(name, quantity)\n",
    "        if self.head is None:\n",
    "            self.head = new_product\n",
    "        else:\n",
    "            current = self.head\n",
    "            while current.next:\n",
    "                current = current.next\n",
    "            current.next = new_product\n",
    "\n",
    "    def update_quantity(self, name, quantity_change):\n",
    "        current = self.head\n",
    "        while current:\n",
    "            if current.name == name:\n",
    "                current.quantity += quantity_change\n",
    "                return True\n",
    "            current = current.next\n",
    "        return False\n",
    "\n",
    "    def sell_product(self, name, quantity_sold):\n",
    "        return self.update_quantity(name, -quantity_sold)\n",
    "\n",
    "    def display_inventory(self):\n",
    "        if self.head is None:\n",
    "            print(\"Inventory is empty\")\n",
    "        else:\n",
    "            current = self.head\n",
    "            while current:\n",
    "                print(f\"Product: {current.name}, Quantity: {current.quantity}\")\n",
    "                current = current.next\n",
    "\n",
    "#\n"
   ]
  },
  {
   "cell_type": "code",
   "execution_count": 9,
   "id": "bfced95c",
   "metadata": {},
   "outputs": [],
   "source": [
    "\n",
    "inventory_manager = InventoryManager()\n",
    "\n",
    "# 제품 추가\n",
    "inventory_manager.add_product(\"Laptop\", 50)\n",
    "inventory_manager.add_product(\"Smart Phone\", 100)\n",
    "inventory_manager.add_product(\"Head Phone\", 75)"
   ]
  },
  {
   "cell_type": "code",
   "execution_count": 10,
   "id": "273964ba",
   "metadata": {},
   "outputs": [
    {
     "name": "stdout",
     "output_type": "stream",
     "text": [
      "Current inventory:\n",
      "Product: Laptop, Quantity: 50\n",
      "Product: Smart Phone, Quantity: 100\n",
      "Product: Head Phone, Quantity: 75\n",
      "\n",
      "Sold 20 Smart Phone(s)\n",
      "\n",
      "Updated inventory:\n"
     ]
    },
    {
     "data": {
      "text/plain": [
       "<bound method InventoryManager.display_inventory of <__main__.InventoryManager object at 0x000002219F799790>>"
      ]
     },
     "execution_count": 10,
     "metadata": {},
     "output_type": "execute_result"
    }
   ],
   "source": [
    "# 현재 재고 출력\n",
    "print(\"Current inventory:\")\n",
    "inventory_manager.display_inventory()\n",
    "\n",
    "# 제품 판매 및 재고 업데이트\n",
    "product_to_sell = \"Smart Phone\"\n",
    "quantity_sold = 20\n",
    "if inventory_manager.sell_product(product_to_sell, quantity_sold):\n",
    "    print(f\"\\nSold {quantity_sold} {product_to_sell}(s)\")\n",
    "else:\n",
    "    print(f\"\\nFailed to sell {quantity_sold} {product_to_sell}(s). Product not found.\")\n",
    "\n",
    "# 업데이트된 재고 출력\n",
    "print(\"\\nUpdated inventory:\")\n",
    "inventory_manager.display_inventory"
   ]
  },
  {
   "cell_type": "code",
   "execution_count": 11,
   "id": "7851e8d3",
   "metadata": {},
   "outputs": [
    {
     "name": "stdout",
     "output_type": "stream",
     "text": [
      "Current inventory:\n",
      "Product: Laptop, Quantity: 50\n",
      "Product: Smart Phone, Quantity: 80\n",
      "Product: Head Phone, Quantity: 75\n"
     ]
    }
   ],
   "source": [
    "print(\"Current inventory:\")\n",
    "inventory_manager.display_inventory()"
   ]
  },
  {
   "cell_type": "code",
   "execution_count": null,
   "id": "c1e02a0d",
   "metadata": {},
   "outputs": [],
   "source": []
  }
 ],
 "metadata": {
  "kernelspec": {
   "display_name": "Python 3 (ipykernel)",
   "language": "python",
   "name": "python3"
  },
  "language_info": {
   "codemirror_mode": {
    "name": "ipython",
    "version": 3
   },
   "file_extension": ".py",
   "mimetype": "text/x-python",
   "name": "python",
   "nbconvert_exporter": "python",
   "pygments_lexer": "ipython3",
   "version": "3.11.5"
  }
 },
 "nbformat": 4,
 "nbformat_minor": 5
}
